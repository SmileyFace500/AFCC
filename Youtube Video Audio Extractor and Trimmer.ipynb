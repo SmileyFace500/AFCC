{
 "cells": [
  {
   "cell_type": "code",
   "execution_count": 8,
   "id": "5b619e9d",
   "metadata": {
    "scrolled": true
   },
   "outputs": [
    {
     "name": "stdout",
     "output_type": "stream",
     "text": [
      "MoviePy - Writing audio in Allen's Fork Community Church.mp3\n"
     ]
    },
    {
     "name": "stderr",
     "output_type": "stream",
     "text": [
      "                                                                        \r"
     ]
    },
    {
     "name": "stdout",
     "output_type": "stream",
     "text": [
      "MoviePy - Done.\n",
      "Allen's Fork Community Church.mp4 has been successfully converted to an audio file starting at this second: 3992 and ending on this second: 5391.\n"
     ]
    }
   ],
   "source": [
    "# Importing packages \n",
    "import datetime\n",
    "from moviepy.editor import * # (must run pip install moviepy in command line)\n",
    "\n",
    "# Creating functions\n",
    "def timestamp_to_seconds(timestamp):\n",
    "    \"\"\"Converts a timestamp string (HH:MM:SS) to seconds.\n",
    "\n",
    "    Args: timestamp: A string representing the timestamp in HH:MM:SS format.\n",
    "    Returns: The total number of seconds represented by the timestamp.\n",
    "    \n",
    "    \"\"\"\n",
    "\n",
    "    time_obj = datetime.datetime.strptime(timestamp, \"%H:%M:%S\")\n",
    "    total_seconds = time_obj.hour * 3600 + time_obj.minute * 60 + time_obj.second\n",
    "    return total_seconds\n",
    "\n",
    "starttimestamp = \"01:06:32\"\n",
    "starttimeseconds = timestamp_to_seconds(starttimestamp)\n",
    "\n",
    "endtimestamp = \"01:29:51\"\n",
    "endtimeseconds = timestamp_to_seconds(endtimestamp)\n",
    "\n",
    "# New method: https://dev.to/jimajs/how-to-convert-mp4-to-mp3-using-python-1dcf\n",
    "# How did I obtain the .mp4 file? \n",
    "# Sign into Allens Fork CC YouTube channel\n",
    "# Go to Your Content.\n",
    "# Identify the video under \"Live\"\n",
    "# Click elispses\n",
    "# Click download video\n",
    "# Place .mp4 video file in the same folder as this script\n",
    "# Future automation would be great. If I could sign into YouTube API, drop in the URL, that would be great.\n",
    "\n",
    "# Identifying the name of the video file we want to work on\n",
    "videoname = \"Allen's Fork Community Church.mp4\"\n",
    "\n",
    "# Loading the mp4 file to be used with MoviePy\n",
    "video = VideoFileClip(videoname)\n",
    "\n",
    "# Trimming the video file: https://www.geeksforgeeks.org/moviepy-getting-cut-out-of-video-file-clip/\n",
    "# Using the start time and end times from above so that we don't have to manually do this every time.\n",
    "trimmedvideo = video.subclip(starttimeseconds,endtimeseconds)\n",
    "\n",
    "# Extract audio from video, create an MP3 file\n",
    "trimmedvideo.audio.write_audiofile(\"Allen's Fork Community Church.mp3\") \n",
    "\n",
    "# Result of success \n",
    "print(videoname + \n",
    "      \" has been successfully converted to an audio file starting : \"\n",
    "      + starttimestamp + \" and ending on this second: \"\n",
    "      + endtimestamp + \".\"\n",
    ")"
   ]
  },
  {
   "cell_type": "code",
   "execution_count": null,
   "id": "b79ce5fc",
   "metadata": {},
   "outputs": [],
   "source": []
  }
 ],
 "metadata": {
  "kernelspec": {
   "display_name": "Python 3 (ipykernel)",
   "language": "python",
   "name": "python3"
  },
  "language_info": {
   "codemirror_mode": {
    "name": "ipython",
    "version": 3
   },
   "file_extension": ".py",
   "mimetype": "text/x-python",
   "name": "python",
   "nbconvert_exporter": "python",
   "pygments_lexer": "ipython3",
   "version": "3.9.13"
  }
 },
 "nbformat": 4,
 "nbformat_minor": 5
}
